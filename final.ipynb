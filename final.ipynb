{
 "cells": [
  {
   "cell_type": "markdown",
   "metadata": {},
   "source": [
    "# Lunar Ascent: From Earth to Moon's Orbit"
   ]
  },
  {
   "cell_type": "markdown",
   "metadata": {},
   "source": [
    "Jason Vasquez, Ethan Crawford, Dylan Skinner, Dallin Stewart\n",
    "\n",
    "15-April-2024"
   ]
  },
  {
   "cell_type": "markdown",
   "metadata": {},
   "source": [
    "# Abstract"
   ]
  },
  {
   "cell_type": "markdown",
   "metadata": {},
   "source": [
    "We present a simulation of a rocket’s path from Earth's surface to the orbit of the Moon. We model the complex dynamics involved in rocket propulsion, gravitational interactions, and orbital mechanics by leveraging differential equations and numerical methods. Our simulation accurately captures the stages of ascent, including liftoff, trajectory optimization, and orbital insertion. Through detailed analysis and visualization, we explore the critical factors influencing orbital maneuvers required for this orbital trajectory. The results offer valuable insights into the challenges and considerations of space exploration, paving the way for future missions to celestial bodies beyond Earth's orbit."
   ]
  },
  {
   "cell_type": "markdown",
   "metadata": {},
   "source": [
    "# Background"
   ]
  },
  {
   "cell_type": "markdown",
   "metadata": {},
   "source": [
    "Space travel presents a highly relevant and classic optimal control problem, influenced by numerous factors such as drag, fuel consumption, gravitational forces from multiple celestial bodies, and varying mass considerations. Navigating a rocket from Earth's surface to the Moon's orbit requires modeling complex dynamics encompassing rocket propulsion, gravitational interactions, and orbital mechanics. We rely on a set of differential equations and numerical methods to simulate and analyze these dynamics in order to accurately optimize trajectory and orbital insertion.\n",
    "\n",
    "Understanding and optimizing orbital maneuvers for interplanetary travel have been longstanding challenges in aerospace engineering and space exploration. Previous research has explored various aspects of trajectory optimization, spacecraft propulsion, and orbital transfers to achieve efficient and successful missions beyond Earth's immediate vicinity. Notably, the formulation and solution of optimal control problems have been instrumental in advancing our understanding of spaceflight dynamics and guiding mission planning efforts in order to achieve recent feats such as landing on the moon and Mars.\n",
    "\n",
    "This study builds upon existing research by focusing on the specific trajectory from Earth's surface to the moon's orbit. By conducting detailed analysis and visualizing critical factors affecting orbital maneuvers, our simulation provides valuable insights into the challenges and considerations of space exploration beyond Earth's orbit. The results obtained pave the way for enhanced mission planning and spacecraft design, contributing to the realization of future missions to celestial bodies throughout the solar system and beyond.\n"
   ]
  },
  {
   "cell_type": "markdown",
   "metadata": {},
   "source": [
    "# Mathematical Representation"
   ]
  },
  {
   "cell_type": "markdown",
   "metadata": {},
   "source": [
    "To solve this problem, we defined a cost functional, a state-space evolution equation, and initial and endpoint conditions. We then utilized Pontryagin’s maximum principle to formulate the co-state evolution equation and solve for the optimal control in terms of the co-state. This allowed us to set up a boundary-value problem to solve for the state and costate and then the control. The code and steps for how we accomplished this is defined below. We made several simplifying assumptions in this project defined below.\n",
    "\n",
    "\n",
    "Assumptions\n",
    "1. Rocket, earth, and moon have point mass for the sake of calculating gravity\n",
    "2. Rocket, earth, and moon are the only objects for the sake of calculating gravity (no influence of the sun, stars, etc)\n",
    "3. Rocket, earth, and moon lie on a 2D plane\n",
    "4. Moon's orbit is perfectly circular\n",
    "5. Rocket's mass does not change\n",
    "6. Rocket is single stage\n",
    "7. The earth's position remains at the origin of the 2D plane\n",
    "8. The moon's position at time zero is on the $x$-axis\n",
    "\n",
    "Unless otherwise specified, we the units for this project are defined as:\n",
    "- Mass: kilograms (kg)\n",
    "- Distance: meters (m)\n",
    "- Force: newtons (N)\n",
    "- Angle: degrees (°)\n",
    "- Speed: meters per second (m/s)\n",
    "- Time: seconds (s)"
   ]
  },
  {
   "cell_type": "markdown",
   "metadata": {},
   "source": [
    "## Cost Functional"
   ]
  },
  {
   "cell_type": "markdown",
   "metadata": {},
   "source": [
    "As mentioned above, we seek to find the optimal thrust for a rocket to leave Earth and begin orbiting the moon. To do so, we set up our cost functional as\n",
    "\n",
    "\\begin{equation*}\n",
    "    J[\\textbf{u}] = \\int_{0}^{t_f}c\\lVert \\textbf{u}(t)\\rVert^2 dt,\n",
    "\\end{equation*}\n",
    "\n",
    "where we can interpret $\\textbf{u} = \\begin{bmatrix}u_x & u_y\\end{bmatrix}$ as the thrust in the $x$- and $y$-directions, respectively. We also define our initial conditions as\n",
    "\n",
    "$$\\begin{aligned}\n",
    "    x(0) &= R_e, &&x(t_f) = L_m\\cos(\\theta) + (R_m + h_f)\\cos(90 + \\varphi) \\\\\n",
    "    y(0) &= 0, &&y(t_f) = L_m\\sin(\\theta) + (R_m + h_f)\\sin(90 + \\varphi) \\\\\n",
    "    x'(0) &= 0, &&x'(t_f) = v_f\\cos(\\theta) \\\\\n",
    "    y'(0) &= \\omega_e, &&y'(t_f) = v_f\\sin(\\theta) \\\\\n",
    "\\end{aligned}$$\n",
    "\n",
    "where\n",
    "\n",
    "- $c$ is the scaling constant for the cost of thrust\n",
    "- $R_e$ is the radius of the Earth (in kilometers),\n",
    "- $L_m$ is the distance from the Earth to the moon (in kilometers),\n",
    "- $R_m$ is the radius of the moon (in kilometers),\n",
    "- $h_f$ is the desired height above the moon to enter orbit (in kilometers),\n",
    "- $v_f$ is the final velocity of the rocket (in kilometers per second),\n",
    "- $\\omega_e$ is the angular velocity of the Earth at the equator (in radians per second),\n",
    "- $\\theta$ is the angle between the $x$-axis and the line between the Earth and the moon, assuming the Earth is at the origin (in degrees),\n",
    "- $\\varphi$ is the angle between the $y$-axis and the line between the Earth and the moon."
   ]
  },
  {
   "cell_type": "markdown",
   "metadata": {},
   "source": [
    "## State Space"
   ]
  },
  {
   "cell_type": "markdown",
   "metadata": {},
   "source": [
    "We define our state space equation as \n",
    "\n",
    "$$\\bar{x} = \\begin{bmatrix}x \\\\ y \\\\ x' \\\\ y' \\end{bmatrix}$$\n",
    "\n",
    "where $x''$ and $y''$ are the acceleration in the $x$ and $y$ directions, respectively. Using Newton's second law, this gives:\n",
    "\n",
    "$$\\begin{aligned}\n",
    "    x'' &= -\\frac{G M_e x}{(x^2 + y^2)^{3/2}} \\, + \\, \\frac{GM_m(L_x - x)}{((L_x - x)^2 + (L_y - y)^2)^{3/2}} + \\frac{u_x}{m_r} - \\frac{\\frac{1}{2}cA\\rho(x,y)x^{\\prime 2}}{m_r} \\\\\n",
    "    y'' &= -\\frac{GM_e y}{(x^2 + y^2)^{3/2}} \\, - \\, \\frac{GM_m (L_y - y)}{((L_x-x)^2 +(L_y - y)^2)^{3/2}} + \\frac{u_y}{m_r} -  \\frac{\\frac{1}{2}cA\\rho(x,y)y^{\\prime 2}}{m_r}.\n",
    "\\end{aligned}$$\n",
    "\n",
    "where\n",
    "\n",
    "- $G$ is the universal gravitational constant\n",
    "- $M_e$ is the mass of the Earth\n",
    "- $M_m$ is the mass of the moon\n",
    "- $m_r$ is the mass of the rocket\n",
    "- $u_x$ is the rocket's thrust in the $x$ direction\n",
    "- $u_y$ is the rocket's thrust in the $y$ direction\n",
    "- $L_x$ is the $x$ position of the moon\n",
    "- $L_y$ is the $y$ position of the moon\n",
    "- $c$ is the drag constant $\\frac{1}{4}$\n",
    "- $a$ is the surface area of the top of the rocket\n",
    "- $\\rho(x,y)$ is the air density at position $(x,y)$"
   ]
  },
  {
   "cell_type": "markdown",
   "metadata": {},
   "source": [
    "## Hamiltonian"
   ]
  },
  {
   "cell_type": "markdown",
   "metadata": {},
   "source": [
    "We now derive the Hamiltonian equation. We have\n",
    "\n",
    "$$\\begin{aligned}\n",
    "    H = \\textbf{p}\\cdot\\textbf{x}' - L &= \\begin{bmatrix}p_1 & p_2 & p_3 & p_4 \\end{bmatrix}\\begin{bmatrix}x' \\\\ y' \\\\ x'' \\\\ y'' \\end{bmatrix} - c\\lVert \\textbf{u} \\rVert^2 \\\\\n",
    "    &= p_1x' + p_2y' + p_3x'' + p_4y'' - cu_x^2 - cu_y^2.\n",
    "\\end{aligned}$$\n",
    "\n",
    "Plugging these values into the Hamiltonian equation, we get\n",
    "\n",
    "$$\\begin{aligned}\n",
    "    H = p_1x' + p_2y' - &p_3\\left(-\\frac{G M_e x}{(x^2 + y^2)^{3/2}} \\, + \\, \\frac{GM_m(L_x - x)}{((L_x - x)^2 + (L_y - y)^2)^{3/2}} + \\frac{u_x}{m_r} - \\frac{\\frac{1}{2}ca\\rho(x,y)x^{\\prime 2}}{m_r}\\right) \\\\\n",
    "    &- p_4\\left(-\\frac{GM_e y}{(x^2 + y^2)^{3/2}} \\, - \\, \\frac{GM_m (L_y - y)}{((L_x-x)^2 +(L_y - y)^2)^{3/2}} + \\frac{u_y}{m_r} -  \\frac{\\frac{1}{2}ca\\rho(x,y)y^{\\prime 2}}{m_r}\\right) - cu_x^2 - cu_y^2.\n",
    "\\end{aligned}$$"
   ]
  },
  {
   "cell_type": "markdown",
   "metadata": {},
   "source": [
    "## Co-State Derivatives"
   ]
  },
  {
   "cell_type": "markdown",
   "metadata": {},
   "source": [
    "We now derive the necessary equations for the PMP. We first derive the necessary equations for the adjoint equations (co-state evolution). We have\n",
    "\n",
    "$$\\begin{aligned}\n",
    "    \\dot{p}_1  = -\\frac{\\partial H}{\\partial x}  \n",
    "    \n",
    "    = &-p_3\\left(\\frac{3GM_m(L_x - x)^2}{\\left((L_x - x)^2 + (L_y - y)^2\\right)^{5/2}} - \\frac{GM_m}{\\left((L_x - x)^2 + (L_y - y)^2 \\right)^{3/2}} + \\frac{3GM_ex^2}{(x^2 + y^2)^{5/2}} - \\frac{GM_e}{(x^2+y^2)^{3/2}}\\right) \\\\\n",
    "    &\\;-p_4\\left(\\frac{-3GM_m(L_x - x)(L_y - y)}{\\left((L_x - x)^2 + (L_y - y)^2\\right)^{5/2}} + \\frac{3GM_e xy}{(x^2 + y^2)^{5/2}} \\right) \\\\\n",
    "    \n",
    "    \\dot{p}_2 =  -\\frac{\\partial H}{\\partial x} = \n",
    "    &-p_3\\left(\\frac{3GM_m(L_x-x)(L_y - y)}{((L_x-x)^2 + (L_y - y)^2)^{5/2}} + \\frac{3GM_exy}{(x^2 + y^2)^{5/2}}\\right) \\\\\n",
    "    &\\;- p_4\\left(\\frac{-3GM_m(L_y - y)^2}{((L_x-x)^2 + (L_y - y)^2)^{5/2}} + \\frac{GM_m}{((L_x-x)^2 + (L_y - y)^2)^{3/2} } + \\frac{3GM_ey^2}{(x^2 + y^2)^{5/2}} - \\frac{GM_e}{(x^2 + y^2)^{3/2}} \\right)  \\\\\n",
    "        \n",
    "    \\dot{p}_3 = -\\frac{\\partial H}{\\partial x'} = \\;&-p_1 + \\frac{c a \\rho(x,y)x^{\\prime}}{m_r}\\\\\n",
    "    \\dot{p}_4 = -\\frac{\\partial H}{\\partial y'} = \\;&-p_2 + \\frac{c a \\rho(x,y)y^{\\prime}}{m_r}.\n",
    "\\end{aligned}$$"
   ]
  },
  {
   "cell_type": "markdown",
   "metadata": {},
   "source": [
    "# Code Set Up"
   ]
  },
  {
   "cell_type": "markdown",
   "metadata": {},
   "source": [
    "### Imports"
   ]
  },
  {
   "cell_type": "code",
   "execution_count": 2,
   "metadata": {},
   "outputs": [],
   "source": [
    "import numpy as np\n",
    "import matplotlib.pyplot as plt\n",
    "from scipy.integrate import solve_bvp\n",
    "import matplotlib.image as mpimg"
   ]
  },
  {
   "cell_type": "markdown",
   "metadata": {},
   "source": [
    "### Constants"
   ]
  },
  {
   "cell_type": "markdown",
   "metadata": {},
   "source": [
    "The specs for the rocket are from the SpaceX Falcon 9 rocket, taken from space https://www.spacex.com/vehicles/falcon-9/. Other planetary constants taken from http://www.braeunig.us/space/constant.html"
   ]
  },
  {
   "cell_type": "code",
   "execution_count": 3,
   "metadata": {},
   "outputs": [],
   "source": [
    "# ROCKET\n",
    "Mr0 = 5.49054e5         # initial mass of rocket\n",
    "rocket_height = 70      # height of the rocket (not distance from earth)\n",
    "rocket_diameter = 3.7   # max diameter of rocket\n",
    "thrust_max1 = 7.56e6    # max thrust of stage 1\n",
    "thrust_max2 = 9.81e2    # max thrust of stage 2\n",
    "A = rocket_diameter * np.pi # area that the wind hits\n",
    "\n",
    "# EARTH\n",
    "Ve = 0                  # velocity of the earth\n",
    "Me = 5.97219e24         # mass of the earth\n",
    "we = 460.0              # angular velocity of the earth at the equator\n",
    "Re = 6.3781e6           # radius of the earth\n",
    "\n",
    "# MOON\n",
    "Vm = 3.683e3            # orbital speed of the moon\n",
    "Mm = 7.34767309e22      # mass of the moon\n",
    "wm = 1.67e1             # angular velocity of the moon at its equator\n",
    "Rm = 1.738e6            # radius of the moon\n",
    "P = 6.552e2             # period of the orbit of the moon\n",
    "hf = 1e2                # final distance between rocket and moon\n",
    "vf = 1e1                # orbital speed of the moon\n",
    "\n",
    "# SPACE\n",
    "Lm = 3.84e8             # distance from the earth to the moon\n",
    "G = 6.673e-11           # graviational constant in (N * m^2) / (kg^2)\n",
    "\n",
    "# DRAG\n",
    "p0 = 1.01325e5          # atmospheric pressure at sea level in Pascals\n",
    "Hn = 1.04e1             # constant for drag force \n",
    "K = 1e5                 # Karman line, when drag is zero and space begins at 100 km\n",
    "c = 0.25                # coefficient of drag for the rocket shape"
   ]
  },
  {
   "cell_type": "markdown",
   "metadata": {},
   "source": [
    "### Helper Functions"
   ]
  },
  {
   "cell_type": "code",
   "execution_count": null,
   "metadata": {},
   "outputs": [],
   "source": [
    "def moon_position(t):\n",
    "    \"\"\"\n",
    "    Calculate the position vector of the Moon at a given time.\n",
    "    @param t: (float) Time elapsed since the start of the simulation.\n",
    "    @return: (ndarray) Position vector of the Moon.\n",
    "    \"\"\"\n",
    "    t_norm = t * (2 * np.pi) / P\n",
    "    return np.array([Lm*np.cos(t_norm), Lm*np.sin(t_norm)])\n",
    "\n",
    "\n",
    "def rocket_mass(t):\n",
    "    \"\"\"\n",
    "    Calculate the mass of the rocket at a given time.\n",
    "    @param t: (float) Time elapsed since the start of the simulation.\n",
    "    @return: (float) Mass of the rocket.\n",
    "    \"\"\"\n",
    "    return Mr0\n",
    "\n",
    "\n",
    "def density(height):\n",
    "    \"\"\"\n",
    "    Calculate the air density at a given altitude.\n",
    "    @param height: (float) Altitude above sea level.\n",
    "    @return: (float) Air density at the given altitude.\n",
    "    \"\"\"\n",
    "    return p0 * np.exp(-height / Hn)\n",
    "\n",
    "\n",
    "def in_atmosphere(x):\n",
    "    \"\"\"\n",
    "    Calculate if the rocket is in the atmosphere of the Earth.\n",
    "    @param x: (ndarray) Position vector of the rocket.\n",
    "    @return: (bool) True if the rocket is in the atmosphere, False otherwise.\n",
    "    \"\"\"\n",
    "    return np.linalg.norm(x) < K"
   ]
  },
  {
   "cell_type": "markdown",
   "metadata": {},
   "source": [
    "### Force Functions"
   ]
  },
  {
   "cell_type": "code",
   "execution_count": null,
   "metadata": {},
   "outputs": [],
   "source": [
    "def drag(y, x=True):\n",
    "    \"\"\"\n",
    "    Compute the force due to drag from the atmosphere. \n",
    "    Returns zero if the rocket has passed the Karman line.\n",
    "\n",
    "    @param: y (ndarray) - 4D array of floats \n",
    "                            x position and y position of the rocket in km, \n",
    "                            x velocity and y velocity of the rocket in km/s\n",
    "    @param: x (boolean) - True if the force should be returned in the x direction, false for the y direction\n",
    "\n",
    "    @returns: force (float) - Force due to drag in the desired direction\n",
    "    \"\"\"\n",
    "    pos = y[:2]\n",
    "    vel = y[2:]\n",
    "    height = np.linalg.norm(pos) - Re\n",
    "    if height < K:\n",
    "        i = 0 if x else 1\n",
    "        return 0.5 * c * A * density(height) * vel[i]**2 / Mr0\n",
    "    return 0\n",
    "\n",
    "\n",
    "def drag_derivative(y, x=True):\n",
    "    \"\"\"\n",
    "    Compute the force due to drag from the atmosphere. \n",
    "    Returns zero if the rocket has passed the Karman line.\n",
    "\n",
    "    @param: y (ndarray) - 4D array of floats \n",
    "                            x position and y position of the rocket in km, \n",
    "                            x velocity and y velocity of the rocket in km/s\n",
    "    @param: x (boolean) - True if the force should be returned in the x direction, false for the y direction\n",
    "\n",
    "    @returns: force (float) - Force due to drag in the desired direction\n",
    "    \"\"\"\n",
    "    pos = y[:2]\n",
    "    vel = y[2:]\n",
    "    height = np.linalg.norm(pos) - Re\n",
    "    if height < K:\n",
    "        i = 0 if x else 1\n",
    "        return c * A * density(height) * vel[i] / Mr0\n",
    "    return 0\n",
    "\n",
    "\n",
    "def gravity(x, x_dir=True, moon=None):\n",
    "    \"\"\"\n",
    "    Calculate the magnitude of the gravitational force acting on the rocket.\n",
    "\n",
    "    @param x: (ndarray) Position vector of the rocket.\n",
    "    @param x_dir: (bool) True if acceleration in the x direction is desired, False for y.\n",
    "    @param moon: (ndarray) Position vector of the Moon. Defaults to 0, indicating Earth's gravity.\n",
    "\n",
    "    @return: (float) Magnitude of the gravitational force.\n",
    "    \"\"\"\n",
    "    if moon is None: moon = np.array([0, 0])\n",
    "    mass = Me if np.all(moon == 0) else Mm\n",
    "    id = 0 if x_dir else 1\n",
    "    # since we want acceleration and not force, we don't multiply by the mass of the rocket\n",
    "    return G * mass * (moon[id] - x[id]) / ((moon[0] - x[0])**2 + (moon[1] - x[1])**2)**(1.5)"
   ]
  },
  {
   "cell_type": "markdown",
   "metadata": {},
   "source": [
    "# Solution"
   ]
  },
  {
   "cell_type": "code",
   "execution_count": null,
   "metadata": {},
   "outputs": [],
   "source": [
    "n = 1000                # number of time steps to take in the numerical solver\n",
    "dim = 8                 # dimension of the state and costate spaces, combined\n",
    "final_time = 250000     # number of seconds to arrive at the moon (approximately 3 days)\n",
    "cost = 1e-16            # cost scalar for the cost functional\n",
    "\n",
    "# state update equation\n",
    "def update(t,z,p):\n",
    "    # rename variables for readability\n",
    "    tf = p[0]\n",
    "    pos = z[:2]\n",
    "    moon_pos = moon_position(t)\n",
    "    Lx, Ly = moon_pos\n",
    "    mass_r = rocket_mass(t)\n",
    "    x = z[0]\n",
    "    y = z[1]\n",
    "    p1 = z[4]\n",
    "    p2 = z[5]\n",
    "    p3 = z[6]\n",
    "    p4 = z[7]\n",
    "    \n",
    "    # define optimal control based on hamiltonian\n",
    "    ux = p3 / (2*mass_r) / cost + thrust_max1\n",
    "    uy = p4 / (2*mass_r) / cost + thrust_max1\n",
    "\n",
    "    return np.vstack((z[2], # x prime\n",
    "                    z[3],   # y prime\n",
    "                    # x double prime\n",
    "                    (ux / mass_r - gravity(pos) + gravity(pos, moon=moon_pos) - in_atmosphere(z[:2])*drag(z)), \n",
    "                    # y double prime\n",
    "                    (uy / mass_r - gravity(pos, x_dir=False) - gravity(x, x_dir=False, moon=moon_pos) - in_atmosphere(z[:2])*drag(z, x=False)),\n",
    "                    # p1 prime\n",
    "                    -(p4 * ((-3*G*Mm*(Lx-x)*(Ly-y)) / ((Lx-x)**2 + (Ly-y)**2)**(5/2) + 3*G*Me*x*y / (x**2 + y**2)**2.5) + \\\n",
    "                        p3*((3*G*Mm*(Lx-x)**2 / ((Lx-x)**2 + (Ly-y)**2)**(5/2)) - \\\n",
    "                            (G*Mm / ((Lx-x)**2 + (Ly-y)**2)**(3/2)) + \\\n",
    "                                (3*G*Me*x**2 / (x**2 + y**2)**2.5) - \\\n",
    "                                    (G*Me / (x**2 + y**2)**1.5))),\n",
    "                    # p2 prime\n",
    "                    -(p3 * ((3*G*Mm*(Lx-x)*(Ly-y)) / ((Lx-x)**2 + (Ly-y)**2)**5/2 + 3*G*Me*x*y / (x**2 + y**2)**2.5) + \\\n",
    "                        p4*((-3*G*Mm*(Ly-y)**2 / ((Lx-x)**2 + (Ly-y)**2)**(5/2)) + \\\n",
    "                            (G*Mm / (((Lx-x)**2 + (Ly-y)**2)**(3/2))) + \\\n",
    "                                (3*G*Me*y**2 / (x**2 + y**2)**2.5) - \\\n",
    "                                    (G*Me / (x**2 + y**2)**1.5))),\n",
    "                    # p3 prime\n",
    "                    -(p1 - drag_derivative(z[:4])),\n",
    "                    # p4 prime\n",
    "                    -(p2 - drag_derivative(z[:4], x=False))\n",
    "                    ))\n",
    "\n",
    "# set up the endpoint conditions\n",
    "def bc(ya, yb, p):\n",
    "    tf = p[0]\n",
    "    moon_pos = moon_position(tf)\n",
    "    theta = np.arctan2(moon_pos[0], moon_pos[1]) + 90\n",
    "    return np.array([ya[0]-Re,      # start x\n",
    "                     ya[1]-0,       # start y\n",
    "                     ya[2]-0,       # start x'\n",
    "                     ya[3]-we,      # start y'\n",
    "                     yb[0]-moon_pos[0] - (Rm-hf)*np.cos(theta),     # end x\n",
    "                     yb[1]-moon_pos[1] - (Rm-hf)*np.sin(theta),     # end y\n",
    "                     yb[2]-vf*np.cos(theta),                        # end x'\n",
    "                     yb[3]-vf*np.sin(theta),                        # end y'\n",
    "                     (tf-final_time)])                              # end time"
   ]
  },
  {
   "cell_type": "markdown",
   "metadata": {},
   "source": [
    "# Ferpa Release"
   ]
  },
  {
   "cell_type": "markdown",
   "metadata": {},
   "source": [
    "We give Dr. Evans, Dr. Whitehead, and other instructors at BYU teaching ACME\n",
    "classes permission to share our project as an example of a good project in future classes\n",
    "they teach.\n",
    "\n",
    "-Jason Vasquez, Dallin Stewart, Dylan Skinner, Ethan Crawford"
   ]
  }
 ],
 "metadata": {
  "kernelspec": {
   "display_name": "py311",
   "language": "python",
   "name": "python3"
  },
  "language_info": {
   "codemirror_mode": {
    "name": "ipython",
    "version": 3
   },
   "file_extension": ".py",
   "mimetype": "text/x-python",
   "name": "python",
   "nbconvert_exporter": "python",
   "pygments_lexer": "ipython3",
   "version": "3.11.5"
  }
 },
 "nbformat": 4,
 "nbformat_minor": 2
}
